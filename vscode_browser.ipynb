{
  "nbformat": 4,
  "nbformat_minor": 0,
  "metadata": {
    "colab": {
      "name": "vscode_browser.ipynb",
      "provenance": [],
      "collapsed_sections": [],
      "include_colab_link": true
    },
    "kernelspec": {
      "name": "python3",
      "display_name": "Python 3"
    },
    "accelerator": "GPU"
  },
  "cells": [
    {
      "cell_type": "markdown",
      "metadata": {
        "id": "view-in-github",
        "colab_type": "text"
      },
      "source": [
        "<a href=\"https://colab.research.google.com/github/uttamkumar0036/Thesis/blob/master/vscode_browser.ipynb\" target=\"_parent\"><img src=\"https://colab.research.google.com/assets/colab-badge.svg\" alt=\"Open In Colab\"/></a>"
      ]
    },
    {
      "cell_type": "code",
      "metadata": {
        "id": "LL_JZRB_WMfq",
        "colab_type": "code",
        "outputId": "ffb08937-296b-4e2c-e5dc-2c42027b8176",
        "colab": {
          "base_uri": "https://localhost:8080/",
          "height": 125
        }
      },
      "source": [
        "# # Run this cell to mount your Google Drive.\n",
        "from google.colab import drive\n",
        "drive.mount('/content/drive')"
      ],
      "execution_count": 3,
      "outputs": [
        {
          "output_type": "stream",
          "text": [
            "Go to this URL in a browser: https://accounts.google.com/o/oauth2/auth?client_id=947318989803-6bn6qk8qdgf4n4g3pfee6491hc0brc4i.apps.googleusercontent.com&redirect_uri=urn%3aietf%3awg%3aoauth%3a2.0%3aoob&response_type=code&scope=email%20https%3a%2f%2fwww.googleapis.com%2fauth%2fdocs.test%20https%3a%2f%2fwww.googleapis.com%2fauth%2fdrive%20https%3a%2f%2fwww.googleapis.com%2fauth%2fdrive.photos.readonly%20https%3a%2f%2fwww.googleapis.com%2fauth%2fpeopleapi.readonly\n",
            "\n",
            "Enter your authorization code:\n",
            "··········\n",
            "Mounted at /content/drive\n"
          ],
          "name": "stdout"
        }
      ]
    },
    {
      "cell_type": "code",
      "metadata": {
        "id": "ueAa7eVlENGq",
        "colab_type": "code",
        "colab": {
          "base_uri": "https://localhost:8080/",
          "height": 34
        },
        "outputId": "aa153f20-2d00-4afb-bed5-434b020962e1"
      },
      "source": [
        "cd /content/drive/My Drive/codeserver"
      ],
      "execution_count": 4,
      "outputs": [
        {
          "output_type": "stream",
          "text": [
            "/content/drive/My Drive/codeserver\n"
          ],
          "name": "stdout"
        }
      ]
    },
    {
      "cell_type": "code",
      "metadata": {
        "id": "fIwJF2IpEkdi",
        "colab_type": "code",
        "colab": {}
      },
      "source": [
        "!chmod +x ./code-server2.1665-vsc1.39.2-linux-x86_64/code-server && chmod +x ./ngrok"
      ],
      "execution_count": 0,
      "outputs": []
    },
    {
      "cell_type": "code",
      "metadata": {
        "colab_type": "code",
        "id": "nRwlwBuCorkg",
        "outputId": "0720b519-33e2-4894-abb2-904a1179ebdd",
        "colab": {
          "base_uri": "https://localhost:8080/",
          "height": 1000
        }
      },
      "source": [
        "!./ngrok http 8443 --log=stdout & ./code-server2.1665-vsc1.39.2-linux-x86_64/code-server --allow-https --port 8443  --extensions-dir ./extension --user-data-dir userdata --no-auth /"
      ],
      "execution_count": 0,
      "outputs": [
        {
          "output_type": "stream",
          "text": [
            "\u001b[32mINFO\u001b[0m[12-20|08:03:27] no configuration paths supplied \n",
            "\u001b[32mINFO\u001b[0m[12-20|08:03:27] ignoring default config path, could not stat it \u001b[32mpath\u001b[0m=/root/.ngrok2/ngrok.yml \u001b[32merr\u001b[0m=\"stat /root/.ngrok2/ngrok.yml: no such file or directory\"\n",
            "t=2019-12-20T08:03:27+0000 lvl=info msg=\"starting web service\" obj=web addr=127.0.0.1:4040\n",
            "t=2019-12-20T08:03:27+0000 lvl=info msg=\"tunnel session started\" obj=tunnels.session\n",
            "t=2019-12-20T08:03:27+0000 lvl=info msg=\"client session established\" obj=csess id=8cc1c4abd6d5\n",
            "t=2019-12-20T08:03:27+0000 lvl=info msg=\"started tunnel\" obj=tunnels name=\"command_line (http)\" addr=http://localhost:8443 url=http://ac317a16.ngrok.io\n",
            "t=2019-12-20T08:03:27+0000 lvl=info msg=\"started tunnel\" obj=tunnels name=command_line addr=http://localhost:8443 url=https://ac317a16.ngrok.io\n",
            "Option 'allow-https' is unknown. Ignoring.\n",
            "Option 'allow-https' is unknown. Ignoring.\n",
            "\u001b[38;2;255;157;0mwarn  \u001b[0mundefined\u001b[0m\n",
            "\u001b[38;2;0;143;191minfo  \u001b[0mServer listening on http://localhost:8443\u001b[0m\n",
            "\u001b[38;2;0;143;191minfo  \u001b[0m  - Password is 58dc5035e797a7d4468d6a5d\u001b[0m\n",
            "\u001b[38;2;0;143;191minfo  \u001b[0m    - To use your own password, set the PASSWORD environment variable\u001b[0m\n",
            "\u001b[38;2;0;143;191minfo  \u001b[0m    - To disable use `--auth none`\u001b[0m\n",
            "\u001b[38;2;0;143;191minfo  \u001b[0m  - Not serving HTTPS\u001b[0m\n",
            "t=2019-12-20T08:03:44+0000 lvl=info msg=\"join connections\" obj=join id=e02ae1de7ba2 l=127.0.0.1:8443 r=103.80.70.149:57559\n",
            "t=2019-12-20T08:03:44+0000 lvl=info msg=\"join connections\" obj=join id=181a73f0573f l=127.0.0.1:8443 r=103.80.70.149:57561\n",
            "t=2019-12-20T08:03:46+0000 lvl=info msg=\"join connections\" obj=join id=6a769dc6ece8 l=127.0.0.1:8443 r=103.80.70.149:57561\n",
            "t=2019-12-20T08:03:46+0000 lvl=info msg=\"join connections\" obj=join id=3bd15352e76c l=127.0.0.1:8443 r=103.80.70.149:57561\n",
            "t=2019-12-20T08:03:56+0000 lvl=info msg=\"join connections\" obj=join id=360556a55814 l=127.0.0.1:8443 r=103.80.70.149:57565\n",
            "t=2019-12-20T08:03:57+0000 lvl=info msg=\"join connections\" obj=join id=9394f1ad313c l=127.0.0.1:8443 r=103.80.70.149:57565\n",
            "t=2019-12-20T08:03:58+0000 lvl=info msg=\"join connections\" obj=join id=88db844d3352 l=127.0.0.1:8443 r=103.80.70.149:57566\n",
            "t=2019-12-20T08:03:58+0000 lvl=info msg=\"join connections\" obj=join id=628481fb7bc4 l=127.0.0.1:8443 r=103.80.70.149:57565\n",
            "t=2019-12-20T08:03:58+0000 lvl=info msg=\"join connections\" obj=join id=120c492b168b l=127.0.0.1:8443 r=103.80.70.149:57567\n",
            "t=2019-12-20T08:03:58+0000 lvl=info msg=\"join connections\" obj=join id=9ce0c661f04a l=127.0.0.1:8443 r=103.80.70.149:57568\n",
            "t=2019-12-20T08:03:58+0000 lvl=info msg=\"join connections\" obj=join id=21ad9f706d65 l=127.0.0.1:8443 r=103.80.70.149:57569\n",
            "t=2019-12-20T08:03:58+0000 lvl=info msg=\"join connections\" obj=join id=0261eff82401 l=127.0.0.1:8443 r=103.80.70.149:57570\n",
            "t=2019-12-20T08:04:04+0000 lvl=info msg=\"join connections\" obj=join id=212cbe15e261 l=127.0.0.1:8443 r=103.80.70.149:57573\n",
            "t=2019-12-20T08:04:05+0000 lvl=info msg=\"join connections\" obj=join id=5ed09d384386 l=127.0.0.1:8443 r=103.80.70.149:57574\n",
            "t=2019-12-20T08:04:05+0000 lvl=info msg=\"join connections\" obj=join id=237b76819a24 l=127.0.0.1:8443 r=103.80.70.149:57575\n",
            "t=2019-12-20T08:04:05+0000 lvl=info msg=\"join connections\" obj=join id=144d77754b2a l=127.0.0.1:8443 r=103.80.70.149:57576\n",
            "t=2019-12-20T08:04:05+0000 lvl=info msg=\"join connections\" obj=join id=33ad8b7f434c l=127.0.0.1:8443 r=103.80.70.149:57578\n",
            "t=2019-12-20T08:04:05+0000 lvl=info msg=\"join connections\" obj=join id=6286400bc3fd l=127.0.0.1:8443 r=103.80.70.149:57577\n",
            "t=2019-12-20T08:04:12+0000 lvl=info msg=\"join connections\" obj=join id=7432f737014d l=127.0.0.1:8443 r=103.80.70.149:57576\n",
            "t=2019-12-20T08:04:12+0000 lvl=info msg=\"join connections\" obj=join id=d5df3357907f l=127.0.0.1:8443 r=103.80.70.149:57576\n",
            "t=2019-12-20T08:04:13+0000 lvl=info msg=\"join connections\" obj=join id=a81e381a2bf2 l=127.0.0.1:8443 r=103.80.70.149:57582\n",
            "t=2019-12-20T08:04:13+0000 lvl=info msg=\"join connections\" obj=join id=a2bed8dae7d4 l=127.0.0.1:8443 r=103.80.70.149:57583\n",
            "t=2019-12-20T08:04:14+0000 lvl=info msg=\"join connections\" obj=join id=46b1a37cc73f l=127.0.0.1:8443 r=103.80.70.149:57576\n",
            "t=2019-12-20T08:04:22+0000 lvl=info msg=\"join connections\" obj=join id=2cbea34d5088 l=127.0.0.1:8443 r=103.80.70.149:57590\n",
            "t=2019-12-20T08:04:22+0000 lvl=info msg=\"join connections\" obj=join id=46490ecbb63e l=127.0.0.1:8443 r=103.80.70.149:57591\n",
            "t=2019-12-20T08:04:23+0000 lvl=info msg=\"join connections\" obj=join id=e75e9cc7ea27 l=127.0.0.1:8443 r=103.80.70.149:57590\n",
            "t=2019-12-20T08:05:11+0000 lvl=info msg=\"join connections\" obj=join id=543b0121da08 l=127.0.0.1:8443 r=103.80.70.149:57612\n",
            "t=2019-12-20T08:05:14+0000 lvl=info msg=\"join connections\" obj=join id=d332e307dd9b l=127.0.0.1:8443 r=103.80.70.149:57620\n",
            "t=2019-12-20T08:05:20+0000 lvl=info msg=\"join connections\" obj=join id=cebfd80eb58d l=127.0.0.1:8443 r=103.80.70.149:57625\n",
            "t=2019-12-20T08:05:21+0000 lvl=info msg=\"join connections\" obj=join id=b8e9bdd170c6 l=127.0.0.1:8443 r=103.80.70.149:57626\n",
            "t=2019-12-20T08:05:21+0000 lvl=info msg=\"join connections\" obj=join id=6a3420aaeadc l=127.0.0.1:8443 r=103.80.70.149:57627\n",
            "t=2019-12-20T08:05:21+0000 lvl=info msg=\"join connections\" obj=join id=2e5439e6a5c7 l=127.0.0.1:8443 r=103.80.70.149:57628\n",
            "t=2019-12-20T08:05:22+0000 lvl=info msg=\"join connections\" obj=join id=edb36bb854d4 l=127.0.0.1:8443 r=103.80.70.149:57628\n",
            "t=2019-12-20T08:05:22+0000 lvl=info msg=\"join connections\" obj=join id=44a1b526e465 l=127.0.0.1:8443 r=103.80.70.149:57627\n",
            "t=2019-12-20T08:05:41+0000 lvl=info msg=\"join connections\" obj=join id=7e7905738f08 l=127.0.0.1:8443 r=103.80.70.149:57640\n",
            "t=2019-12-20T08:05:42+0000 lvl=info msg=\"join connections\" obj=join id=198cfc4b2e6e l=127.0.0.1:8443 r=103.80.70.149:57642\n",
            "t=2019-12-20T08:05:54+0000 lvl=info msg=\"join connections\" obj=join id=fde354fffc24 l=127.0.0.1:8443 r=103.80.70.149:57646\n",
            "t=2019-12-20T08:05:56+0000 lvl=info msg=\"join connections\" obj=join id=99d1b34cff30 l=127.0.0.1:8443 r=103.80.70.149:57646\n",
            "t=2019-12-20T08:06:21+0000 lvl=info msg=\"join connections\" obj=join id=22fe80cb1f34 l=127.0.0.1:8443 r=103.80.70.149:57652\n",
            "t=2019-12-20T08:06:29+0000 lvl=info msg=\"join connections\" obj=join id=315ef90220f7 l=127.0.0.1:8443 r=103.80.70.149:57652\n",
            "t=2019-12-20T08:06:36+0000 lvl=info msg=\"join connections\" obj=join id=953d283404dc l=127.0.0.1:8443 r=103.80.70.149:57652\n",
            "t=2019-12-20T08:07:53+0000 lvl=info msg=\"join connections\" obj=join id=1faaeee9f83b l=127.0.0.1:8443 r=103.80.70.149:57675\n",
            "t=2019-12-20T08:08:10+0000 lvl=info msg=\"join connections\" obj=join id=99c0382ae95e l=127.0.0.1:8443 r=103.80.70.149:57678\n"
          ],
          "name": "stdout"
        }
      ]
    },
    {
      "cell_type": "code",
      "metadata": {
        "id": "p6TY_I88WnOw",
        "colab_type": "code",
        "colab": {}
      },
      "source": [
        "!curl -sSL https://github.com/cdr/code-server/releases/download/2.1665-vsc1.39.2/code-server2.1665-vsc1.39.2-linux-x86_64.tar.gz | tar -xvz\n",
        "!wget https://bin.equinox.io/c/4VmDzA7iaHb/ngrok-stable-linux-amd64.zip\n",
        "!unzip ngrok-stable-linux-amd64.zip"
      ],
      "execution_count": 0,
      "outputs": []
    },
    {
      "cell_type": "code",
      "metadata": {
        "id": "VvnNTF96BbZk",
        "colab_type": "code",
        "colab": {}
      },
      "source": [
        "!gdown https://drive.google.com/uc?id=1jjE85dRCMOgRtvJ5RQV9-Afs-2_5dY3O && unzip DukeMTMC-reID.zip && mkdir DukeMTMC_prepare"
      ],
      "execution_count": 0,
      "outputs": []
    }
  ]
}